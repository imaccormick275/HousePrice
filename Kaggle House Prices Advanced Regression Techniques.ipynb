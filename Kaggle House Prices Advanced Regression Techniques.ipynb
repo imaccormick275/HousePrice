{
 "cells": [
  {
   "cell_type": "markdown",
   "metadata": {},
   "source": [
    "# Kaggle: House Prices Advanced Regression Techniques\n",
    "\n",
    "#### Copmetition Specification:\n",
    "Ask a home buyer to describe their dream house, and they probably won't begin with the height of the basement ceiling or the proximity to an east-west railroad. But this playground competition's dataset proves that much more influences price negotiations than the number of bedrooms or a white-picket fence.\n",
    "\n",
    "With 79 explanatory variables describing (almost) every aspect of residential homes in Ames, Iowa, this competition challenges you to predict the final price of each home.\n",
    "\n",
    "#### Approach:\n",
    "* Feature creation using pandas\n",
    "* Create pipeline to manage preprocessing (transformation) and stacking (model)\n",
    "\n",
    "#### Objective is to demonstrate:\n",
    "* regression techniques\n",
    "* feature creation\n",
    "* manual outlier removal\n",
    "* sklearn pipelines for transformation of data and model training\n",
    "* category encoders for encoding methods\n",
    "* imbalanced learn for outlier detection and removal (not yet implemented)\n",
    "* scikit optimization for parameter tuning\n",
    "* mlxtend for model stacking\n",
    "* cross-validation\n",
    "\n",
    "\n",
    "\n",
    "##### Limitations:\n",
    "* no eda: there are many other notebooks for this competition with in depth eda\n",
    "\n",
    "##### Further Enhancements:\n",
    "* feature engineering and outlier removal made the largest impact on the model\n",
    "* automated outlier detection, rather than handpick, and include in pipeline using imblearn pipelines\n",
    "* method for detecting bad leverage points\n",
    "* further feature engineering\n",
    "* add more tuned models"
   ]
  },
  {
   "cell_type": "markdown",
   "metadata": {},
   "source": [
    "## Resources\n",
    "\n",
    "* skLearn pipeelines (introduction): https://www.kaggle.com/dansbecker/pipelines\n",
    "* skLearn pipelines (tutorial): https://www.kaggle.com/aashita/advanced-pipelines-tutorial\n",
    "* skLearn pipelines (examples): https://www.codementor.io/bruce3557/beautiful-machine-learning-pipeline-with-scikit-learn-uiqapbxuj\n",
    "* skLearn pipelines (custom transformers - for feature creation): https://towardsdatascience.com/custom-transformers-and-ml-data-pipelines-with-python-20ea2a7adb65\n",
    "\n",
    "* Feature encoding: https://towardsdatascience.com/smarter-ways-to-encode-categorical-data-for-machine-learning-part-1-of-3-6dca2f71b159\n",
    "* Feature ecnoding cheat sheet: https://towardsdatascience.com/all-about-categorical-variable-encoding-305f3361fd02\n",
    "\n",
    "* preporcessing steps: https://hackernoon.com/a-brief-overview-of-automatic-machine-learning-solutions-automl-2826c7807a2a\n",
    "\n",
    "* Outliers vs leverage points: https://pdfs.semanticscholar.org/d648/592c98bc63164ac6f6989e1af5c525a06817.pdf\n",
    "* Dealing wiht outliers sklearn: https://www.mikulskibartosz.name/outlier-detection-with-scikit-learn/\n",
    "* normalising skewed data: https://www.quora.com/How-does-skewness-impact-regression-model\n",
    "* feature transformations: https://medium.com/@sjacks/feature-transformation-21282d1a3215\n",
    "* hyperparameter tuning using skopt: https://medium.com/@vincent.kr18/hyper-parameter-tuning-using-bayesian-optimisation-code-b50e0e8abe20\n",
    "* ensemble: https://www.analyticsvidhya.com/blog/2018/06/comprehensive-guide-for-ensemble-models/\n",
    "\n"
   ]
  },
  {
   "cell_type": "markdown",
   "metadata": {},
   "source": [
    "## Import Libraries"
   ]
  },
  {
   "cell_type": "code",
   "execution_count": 1,
   "metadata": {},
   "outputs": [
    {
     "name": "stdout",
     "output_type": "stream",
     "text": [
      "Warning: Your Kaggle API key is readable by other users on this system! To fix this, you can run 'chmod 600 /Users/IainMac/.kaggle/kaggle.json'\n"
     ]
    }
   ],
   "source": [
    "# kaggle API\n",
    "from kaggle.api.kaggle_api_extended import KaggleApi\n",
    "\n",
    "# file handling\n",
    "import requests\n",
    "import os\n",
    "import zipfile\n",
    "\n",
    "# data hnadling\n",
    "import pandas as pd\n",
    "import numpy as np\n",
    "pd.set_option('display.max_columns', None)\n",
    "\n",
    "# plotting\n",
    "import matplotlib.pyplot as plt\n",
    "import seaborn as sb\n",
    "sb.set()\n",
    "\n",
    "# classification models\n",
    "from xgboost import XGBClassifier\n",
    "\n",
    "# pre-processing\n",
    "from sklearn.preprocessing import Imputer\n",
    "\n",
    "# encoding methods\n",
    "from sklearn.preprocessing import OneHotEncoder\n",
    "from sklearn.preprocessing import LabelEncoder\n",
    "import category_encoders as ce\n",
    "\n",
    "# sklearn pipelines\n",
    "from sklearn.pipeline import Pipeline\n",
    "\n",
    "# model selection\n",
    "from sklearn.model_selection import train_test_split\n",
    "from sklearn.model_selection import cross_val_score\n",
    "from sklearn.model_selection import RandomizedSearchCV\n",
    "from sklearn.model_selection import GridSearchCV\n",
    "\n",
    "# metrics to assess classification models\n",
    "from sklearn.metrics import precision_recall_fscore_support\n",
    "\n",
    "# other imports\n",
    "from pprint import pprint\n",
    "\n",
    "os.environ['KMP_DUPLICATE_LIB_OK']='True'"
   ]
  },
  {
   "cell_type": "markdown",
   "metadata": {},
   "source": [
    "## Get Data\n",
    "\n",
    "Download data using Kaggle API"
   ]
  },
  {
   "cell_type": "code",
   "execution_count": 2,
   "metadata": {},
   "outputs": [
    {
     "name": "stdout",
     "output_type": "stream",
     "text": [
      "Warning: Your Kaggle API key is readable by other users on this system! To fix this, you can run 'chmod 600 /Users/IainMac/.kaggle/kaggle.json'\n"
     ]
    }
   ],
   "source": [
    "save_folder = \"DataSets/\"\n",
    "\n",
    "# if save folder does not exist, create\n",
    "if not os.path.exists(save_folder):\n",
    "    os.mkdir(save_folder)\n",
    "    \n",
    "# authenticate and download competition\n",
    "api = KaggleApi()\n",
    "api.authenticate()\n",
    "competition = \"house-prices-advanced-regression-techniques\"\n",
    "files = api.competition_download_files(competition, path = save_folder)\n",
    "\n",
    "# unzip files and remove zip file\n",
    "dataSet_folder = save_folder + competition\n",
    "\n",
    "with zipfile.ZipFile(dataSet_folder + \".zip\",\"r\") as zip_ref:\n",
    "    zip_ref.extractall(dataSet_folder)\n",
    "    \n",
    "os.remove(dataSet_folder + \".zip\")"
   ]
  },
  {
   "cell_type": "markdown",
   "metadata": {},
   "source": [
    "## Import Data\n",
    "\n",
    "Import data from folder"
   ]
  },
  {
   "cell_type": "code",
   "execution_count": 3,
   "metadata": {},
   "outputs": [],
   "source": [
    "dataSet_folder = save_folder + competition\n",
    "\n",
    "train_csv = 'train.csv'\n",
    "test_csv = 'test.csv'\n",
    "sample_submission_csv = 'sample_submission.csv'\n",
    "\n",
    "trainData = os.path.join(dataSet_folder, train_csv)\n",
    "testData = os.path.join(dataSet_folder, test_csv)\n",
    "sampleData = os.path.join(dataSet_folder, sample_submission_csv)\n",
    "\n",
    "df_train = pd.read_csv(trainData)\n",
    "df_test = pd.read_csv(testData)\n",
    "df_sample_submission = pd.read_csv(sampleData)"
   ]
  },
  {
   "cell_type": "code",
   "execution_count": 4,
   "metadata": {},
   "outputs": [],
   "source": [
    "test_rows = df_test.shape[0]"
   ]
  },
  {
   "cell_type": "markdown",
   "metadata": {},
   "source": [
    "## Target\n",
    "\n",
    "We aim to build a regressor to predict the home sale price."
   ]
  },
  {
   "cell_type": "code",
   "execution_count": 241,
   "metadata": {},
   "outputs": [],
   "source": [
    "# target variable\n",
    "target = 'SalePrice'"
   ]
  },
  {
   "cell_type": "markdown",
   "metadata": {},
   "source": [
    "## Evaluation Metric\n",
    "\n",
    "Submissions are evaluated on Root-Mean-Squared-Error (RMSE) between the logarithm of the predicted value and the logarithm of the observed sales price. (Taking logs means that errors in predicting expensive houses and cheap houses will affect the result equally.)\n",
    "\n",
    "$$ L(y, \\hat y) = \\sqrt{  (1/N) \\cdot \\sum_{i=0}^N (\\log(y_{i}+1) - \\log(\\hat y_{i}+1))^2 }$$\n",
    "\n",
    "Use RMSLE when doing regression, believing that your target, conditioned on the input, is normally distributed, and you don’t want large errors to be significantly more penalized than small ones, in those cases where the range of the target value is large.\n",
    "\n",
    "Note that, the RMSLE can not handle any predicted values which are less than zero (negative logs are not defined.) For ease we will log transform the target variable, and then inverse this operation before submission. This way we can use the RMSE and avoid any errors on negative predictions. We will be careful to monitor that there are no negative values being predicted as we develop the model and also use the RSMLE before any final submissions."
   ]
  },
  {
   "cell_type": "code",
   "execution_count": 242,
   "metadata": {},
   "outputs": [],
   "source": [
    "from sklearn.metrics import mean_squared_log_error\n",
    "from sklearn.metrics import mean_squared_error\n",
    "\n",
    "scoring_cross_val = 'neg_mean_squared_error'\n",
    "scoring = mean_squared_error\n",
    "\n",
    "# define function for root mean squared error (not defined in sklearn)\n",
    "def RMSE(y_pred, y):\n",
    "    rmse = mean_squared_error(y_pred, y)**(1/2)\n",
    "    return rmse\n",
    "\n",
    "# define function for cross validating root mean squared error (not defined in sklearn)\n",
    "def cross_val_RMSE(model, X, y, cv, scoring=\"neg_mean_squared_error\"):\n",
    "    cv_rmse = cross_val_score(model, X, y, cv=cv, scoring = scoring)\n",
    "    cv_rmse = (-cv_rmse.mean())**(1/2)\n",
    "    return cv_rmse\n",
    "\n",
    "# log transform the trget variable\n",
    "df_train[target] = np.log1p(df_train[target])"
   ]
  },
  {
   "cell_type": "markdown",
   "metadata": {},
   "source": [
    "## EDA\n",
    "\n",
    "The purpose of this document is notebook is not to display skills in EDA. There are many very in depth EDA which have been performed for this competition. For example read:\n",
    "* https://www.kaggle.com/agodwinp/stacking-house-prices-walkthrough-to-top-5/notebook"
   ]
  },
  {
   "cell_type": "markdown",
   "metadata": {},
   "source": [
    "## PreProcessing\n",
    "\n",
    "Any preprocessing steps which can not be contained with a sklearn pipeline are in the following section. Target over time is to move all steps into pipeline - other than perhaps feature creation which naturally sits in pandas."
   ]
  },
  {
   "cell_type": "markdown",
   "metadata": {},
   "source": [
    "##### Merge DataFrames\n",
    "Merge so all preprocessing can be done on one dataFrame. DataFrames split after preprocessing."
   ]
  },
  {
   "cell_type": "code",
   "execution_count": 243,
   "metadata": {},
   "outputs": [],
   "source": [
    "df_test[target] = np.NaN\n",
    "df_test['test_train'] = 'test'\n",
    "df_train['test_train'] = 'train'\n",
    "df_all = pd.concat([df_train.copy(), df_test.copy()], sort=True)\n",
    "df_all.reset_index(drop=True, inplace=True)"
   ]
  },
  {
   "cell_type": "markdown",
   "metadata": {},
   "source": [
    "##### Clean Column Headers"
   ]
  },
  {
   "cell_type": "code",
   "execution_count": 244,
   "metadata": {},
   "outputs": [],
   "source": [
    "df_all.columns = map(str.lower, df_all.columns)\n",
    "df_all.columns = df_all.columns.str.replace(' ', '_')\n",
    "target = target.lower()"
   ]
  },
  {
   "cell_type": "markdown",
   "metadata": {},
   "source": [
    "#### Outliers"
   ]
  },
  {
   "cell_type": "markdown",
   "metadata": {},
   "source": [
    "Despite experimenting with outlier detection methods I could not find a better set of outliers than seen in other kernels for this competition. The ability to detect meaningful outliers alongside feature creation, has a large impact on the final results. This is an area to explore further."
   ]
  },
  {
   "cell_type": "code",
   "execution_count": 245,
   "metadata": {},
   "outputs": [
    {
     "data": {
      "image/png": "[encoded data removed]",
      "text/plain": [
       "<Figure size 720x720 with 1 Axes>"
      ]
     },
     "metadata": {
      "needs_background": "light"
     },
     "output_type": "display_data"
    }
   ],
   "source": [
    "from scipy.cluster.vq import kmeans\n",
    "from scipy.cluster.vq import vq\n",
    "\n",
    "data_raw = df_train['SalePrice'].to_numpy()\n",
    "centroids, avg_distance = kmeans(data_raw, 4)\n",
    "groups, cdist = vq(data_raw, centroids)\n",
    "\n",
    "y = np.arange(0,df_train.shape[0])\n",
    "plt.figure(figsize=(10,10))\n",
    "plt.scatter(data_raw,  y , c=groups)\n",
    "plt.xlabel('SalePrice')\n",
    "plt.ylabel('Indices')\n",
    "plt.show()"
   ]
  },
  {
   "cell_type": "code",
   "execution_count": 246,
   "metadata": {
    "scrolled": true
   },
   "outputs": [],
   "source": [
    "df_all = df_all[((df_all.grlivarea < 4500) & (df_all.test_train =='train')) | (df_all.test_train =='test')]\n",
    "df_all.reset_index(drop=True, inplace=True)\n",
    "\n",
    "outliers = [30, 88, 462, 631, 1322]\n",
    "df_all = df_all.drop(df_all.index[outliers])\n"
   ]
  },
  {
   "cell_type": "markdown",
   "metadata": {},
   "source": [
    "##### DataTypes\n",
    "\n",
    "Inspecting each of the dataFraes created below manually, we can see that all the numerical data are cast as float and int and all categorical data is cast as object.\n"
   ]
  },
  {
   "cell_type": "code",
   "execution_count": 247,
   "metadata": {},
   "outputs": [],
   "source": [
    "df_all_float = df_all.select_dtypes(include='float64',)\n",
    "df_all_object = df_all.select_dtypes(include='object',)\n",
    "df_all_int = df_all.select_dtypes(include='int64',)\n",
    "df_all_bool = df_all.select_dtypes(include='bool',)\n",
    "df_all_datetime64 = df_all.select_dtypes(include='datetime64',)\n",
    "df_all_timedelt= df_all.select_dtypes(include='timedelta',)\n",
    "df_all_category = df_all.select_dtypes(include='category',)\n",
    "\n",
    "# check all columns accounted for\n",
    "assert((set(df_all_float.columns).union(set(df_all_object.columns)).union(\n",
    "    set(df_all_int.columns)).union(set(df_all_bool.columns)).union(\n",
    "    set(df_all_datetime64.columns)).union(set(df_all_category.columns))) == set(df_all.columns))"
   ]
  },
  {
   "cell_type": "markdown",
   "metadata": {},
   "source": [
    "##### Missing Values\n",
    "\n",
    "Missing values will be processed in our pipeline. In this section we will simply look at which features have missing values and look into why."
   ]
  },
  {
   "cell_type": "markdown",
   "metadata": {},
   "source": [
    "<u>Object: </u>\n",
    "\n",
    "We need to determine if the missing categorical data represents a category that is not relevant to that property or if it is genuinely missing which needs to be imputed.\n",
    "* <b>Systematically Missing Values:</b>fireplacequ, alley, masvnrtype, fence, bsmtfintype1, bsmtqual, garagequal, garagefinish, exterior2nd, garagecond, bsmtexposure, poolqc, bsmtcond, mszoning, miscfeature, garagetype, bsmtfintype2\n",
    "* <b>Randomly Missing Values:</b> electrical, exterior1st, functional, kitchenqual, mszoning, saletype, utilities\n",
    "\n",
    "<u>Float: </u> \n",
    "\n",
    "We need to determine if there is a missing numerical data point because the feature in question is not relevant to that property or if it is genuinely missing data which needs to be imputed.\n",
    "* <b>Systematically Missing Values:</b> bsmtfinsf1, bsmtfinsf2, bsmtfullbath, bsmthalfbath, bsmtunfsf, garagearea, garagecars, garageyrblt, masvnrarea, totalbsmtsf\n",
    "* <b>Randomly Missing Values:</b> lotfrontage\n",
    "\n",
    "<u>Int: </u>\n",
    "\n",
    "We need to determine if there is a missing numerical data point because the feature in question is not relevant to that property or if it is genuinely missing data which needs to be imputed.\n",
    "* <b>Systematically Missing Values:</b> none\n",
    "* <b>Randomly Missing Values:</b> none"
   ]
  },
  {
   "cell_type": "markdown",
   "metadata": {},
   "source": [
    "##### Recasting DateTime Values"
   ]
  },
  {
   "cell_type": "code",
   "execution_count": 248,
   "metadata": {},
   "outputs": [],
   "source": [
    "import datetime as dt\n",
    "\n",
    "#categorical_variables = list(df_all_object.columns)\n",
    "datetime_variables = ['yearbuilt', 'yearremodadd', 'yrsold']\n",
    "\n",
    "    \n",
    "for dat_var in datetime_variables:\n",
    "    # convert to date time / then back to ordinal for regression\n",
    "    df_all[dat_var] = df_all[dat_var].astype('datetime64[ns]')\n",
    "    df_all[dat_var] = df_all[dat_var].map(dt.datetime.toordinal)\n",
    "    \n",
    "# check all columns accounted for\n",
    "assert((set(df_all_float.columns).union(set(df_all_object.columns)).union(\n",
    "    set(df_all_int.columns)).union(set(df_all_bool.columns)).union(\n",
    "    set(df_all_datetime64.columns)).union(set(df_all_category.columns))) == set(df_all.columns))"
   ]
  },
  {
   "cell_type": "markdown",
   "metadata": {},
   "source": [
    "#### Feature Creation"
   ]
  },
  {
   "cell_type": "code",
   "execution_count": 249,
   "metadata": {},
   "outputs": [],
   "source": [
    "## numerical\n",
    "df_all['yearbuiltremod'] = df_all['yearbuilt'] + df_all['yearremodadd']\n",
    "df_all['overallrating'] = df_all['overallqual'] + df_all['overallcond']\n",
    "df_all['totalsf'] = df_all['totalbsmtsf'] + df_all['1stflrsf'] + df_all['2ndflrsf']\n",
    "df_all['totalsquarefootage'] = df_all['bsmtfinsf1'] + df_all['bsmtfinsf2'] + df_all['1stflrsf'] + df_all['2ndflrsf']\n",
    "df_all['totalbath'] = df_all['fullbath'] + (0.5 * df_all['halfbath']) + df_all['bsmtfullbath'] + (0.5 * df_all['bsmthalfbath'])\n",
    "df_all['totalporchsf'] = df_all['openporchsf'] + df_all['3ssnporch'] + df_all['enclosedporch'] + df_all['screenporch'] + df_all['wooddecksf']\n",
    "\n",
    "## categorical\n",
    "# houses which contain certain features e.g. haspool if house has a pool\n",
    "df_all['haspool'] = df_all['poolarea'].apply(lambda x: 1 if x > 0 else 0)\n",
    "df_all['has2ndfloor'] = df_all['2ndflrsf'].apply(lambda x: 1 if x > 0 else 0)\n",
    "df_all['hasgarage'] = df_all['garagearea'].apply(lambda x: 1 if x > 0 else 0)\n",
    "df_all['hasbsmt'] = df_all['totalbsmtsf'].apply(lambda x: 1 if x > 0 else 0)\n",
    "df_all['hasfireplace'] = df_all['fireplaces'].apply(lambda x: 1 if x > 0 else 0)\n",
    "\n",
    "# is new house, determined if year built is the same as year sold\n",
    "df_all['newhouse'] = 0\n",
    "idx = df_all[df_all['yrsold'] == df_all['yearbuilt']].index\n",
    "df_all.loc[idx, 'newhouse'] = 1"
   ]
  },
  {
   "cell_type": "code",
   "execution_count": 250,
   "metadata": {},
   "outputs": [],
   "source": [
    "assert(df_all[df_all['test_train']=='test'].shape[0] == test_rows)"
   ]
  },
  {
   "cell_type": "markdown",
   "metadata": {},
   "source": [
    "##### Highly Skewed Features\n",
    "\n",
    "This is an example of how the pipeline below deals with skewed variables. This is not applied to the dataFrame at this point."
   ]
  },
  {
   "cell_type": "code",
   "execution_count": 251,
   "metadata": {},
   "outputs": [
    {
     "name": "stderr",
     "output_type": "stream",
     "text": [
      "/Users/IainMac/anaconda3/envs/portfolio_machinelearning/lib/python3.7/site-packages/sklearn/preprocessing/data.py:2863: RuntimeWarning: divide by zero encountered in log\n",
      "  loglike = -n_samples / 2 * np.log(x_trans.var())\n"
     ]
    },
    {
     "data": {
      "image/png": "[encoded data removed]",
      "text/plain": [
       "<Figure size 1728x864 with 1 Axes>"
      ]
     },
     "metadata": {
      "needs_background": "light"
     },
     "output_type": "display_data"
    }
   ],
   "source": [
    "from sklearn.preprocessing import StandardScaler, RobustScaler, PolynomialFeatures, power_transform, PowerTransformer\n",
    "\n",
    "\n",
    "df_example = df_all.copy()\n",
    "\n",
    "cont_features = ['1stflrsf', '2ndflrsf', '3ssnporch', 'bsmtfinsf1', 'bsmtfinsf2',\n",
    "                 'bsmtunfsf', 'enclosedporch', 'garagearea', 'grlivarea', 'lotarea', \n",
    "                 'lotfrontage', 'lowqualfinsf', 'masvnrarea', 'miscval', 'openporchsf', \n",
    "                 'poolarea', 'screenporch', 'totalbsmtsf', 'wooddecksf']\n",
    "\n",
    "skewed_features = {feature: df_example[feature].skew() for feature in cont_features}\n",
    "\n",
    "df_example[cont_features] = power_transform(df_example[cont_features], 'yeo-johnson')\n",
    "\n",
    "transformed_skews = {feature: df_example[feature].skew() for feature in cont_features}\n",
    "\n",
    "df_skew = pd.DataFrame(index=skewed_features.keys(), columns=['Skew', 'Skew after boxcox1p'])\n",
    "df_skew['Skew'] = skewed_features.values()\n",
    "df_skew['Skew after boxcox1p'] = transformed_skews.values()\n",
    "\n",
    "fig = plt.figure(figsize=(24, 12))\n",
    "\n",
    "sb.pointplot(x=df_skew.index, y='Skew', data=df_skew, markers=['o'], linestyles=['-'])\n",
    "sb.pointplot(x=df_skew.index, y='Skew after boxcox1p', data=df_skew, markers=['x'], linestyles=['--'], color='#bb3f3f')\n",
    "\n",
    "plt.xlabel('Skewed Features', size=20, labelpad=12.5)\n",
    "plt.ylabel('Skewness', size=20, labelpad=12.5)\n",
    "plt.tick_params(axis='x', labelsize=11)\n",
    "plt.tick_params(axis='y', labelsize=15)\n",
    "\n",
    "plt.title('Skewed Features Before and After yeo-johnson Transformation', size=20)\n",
    "\n",
    "plt.show()"
   ]
  },
  {
   "cell_type": "markdown",
   "metadata": {},
   "source": [
    "##### Drop Features"
   ]
  },
  {
   "cell_type": "code",
   "execution_count": 252,
   "metadata": {},
   "outputs": [],
   "source": [
    "df_all = df_all.drop(['utilities', 'street', 'poolqc', 'id'], axis=1)"
   ]
  },
  {
   "cell_type": "markdown",
   "metadata": {},
   "source": [
    "#### Split DataFrames into Original Test/Train"
   ]
  },
  {
   "cell_type": "code",
   "execution_count": 253,
   "metadata": {},
   "outputs": [],
   "source": [
    "df_train = df_all[df_all['test_train']=='train'].copy()\n",
    "df_test = df_all[df_all['test_train']=='test'].copy()\n",
    "df_train.drop(['test_train'], axis=1, inplace=True)\n",
    "df_test.drop(['test_train', target], axis=1, inplace=True)"
   ]
  },
  {
   "cell_type": "markdown",
   "metadata": {},
   "source": [
    "## Train/Validation Split\n",
    "\n",
    "Although there is a test set provided, we can only know our test error upon submission. So we are able to measure how well our model is generalising, without placing many submissions, we will create a pseudo train/test split. Any cross validation will be done on a percentage of this pseudo train set. Before any submissions we will retrain our model on the full training set provided. \n",
    "\n",
    "Original:\n",
    "* X_train_full: original train set\n",
    "* y_train_full: original train target set\n",
    "* X_test_full: original test set\n",
    "* y_pred_full: predictions made using model trained on X_train_full, y_pred_full\n",
    "\n",
    "Pseudo test/train:\n",
    "* X_train: X_train full - X_test\n",
    "* X_test: 20% of X_train_full\n",
    "* y_train: y_train_full - y_test\n",
    "* y_test: 20% of y_train_full\n",
    "* y_pred: predictions made on model trained on X_train, y_train"
   ]
  },
  {
   "cell_type": "code",
   "execution_count": 254,
   "metadata": {},
   "outputs": [],
   "source": [
    "X_train_full = df_train.drop(target, axis=1)\n",
    "y_train_full = df_train[target]\n",
    "X_test_full = df_test\n",
    "\n",
    "X_train, X_test, y_train, y_test = train_test_split(X_train_full, y_train_full, test_size=0.2, random_state=0)\n",
    "\n",
    "# assert statement check target variable is positive (requirement for MSLE)\n",
    "assert((y_train.to_numpy().reshape(-1, 1) > 0).all())\n",
    "assert((y_test.to_numpy().reshape(-1, 1) > 0).all())"
   ]
  },
  {
   "cell_type": "markdown",
   "metadata": {},
   "source": [
    "## Categorical/Numerical Features, Rand/Sys Missing Values, Nominal/Ordinal Categories, Continuous/Discrete\n",
    "\n",
    "In the section below we classify our features so that our pipeline can handle the following combination of features seperately:\n",
    "\n",
    "* continuous numerical features with randomly missing values\n",
    "* continuous numerical features with systematically missing values\n",
    "* discrete numerical features with randomly missing values\n",
    "* discrete numerical features with systematically missing values\n",
    "* nominal categorical features with randomly missing values\n",
    "* nominal categorical features with systematically missing values\n",
    "* ordinal categorical features with randomly missing values\n",
    "* ordinal categorical features with systematically missing values\n"
   ]
  },
  {
   "cell_type": "code",
   "execution_count": 255,
   "metadata": {},
   "outputs": [],
   "source": [
    "# defint categorical variables and numerical varibales for later\n",
    "X_train_category = X_train.select_dtypes(include='object',)\n",
    "X_train_float = X_train.select_dtypes(include='float64',)\n",
    "X_train_int = X_train.select_dtypes(include='int64',)\n",
    "\n",
    "# numerical features\n",
    "## numerical all features\n",
    "num_feats = list(set(X_train_float.columns).union(set(X_train_int.columns)))\n",
    "\n",
    "## random vs systematically missing\n",
    "num_feats_rand_missing = ['lotfrontage']\n",
    "num_feats_sys_missing = list(set(num_feats) - set(num_feats_rand_missing))\n",
    "\n",
    "## continuous vs discrete\n",
    "num_cont_features = ['1stflrsf', '2ndflrsf', '3ssnporch', 'bsmtfinsf1', 'bsmtfinsf2',\n",
    "                 'bsmtunfsf', 'enclosedporch', 'garagearea', 'grlivarea', 'lotarea', \n",
    "                 'lotfrontage', 'lowqualfinsf', 'masvnrarea', 'miscval', 'openporchsf', \n",
    "                 'poolarea', 'screenporch', 'totalbsmtsf', 'wooddecksf']\n",
    "num_disc_features = list(set(num_feats) - set(cont_features))\n",
    "\n",
    "## numerical splits for pipeline\n",
    "num_feats_rand_cont = list(set(num_cont_features).intersection(set(num_feats_rand_missing)))\n",
    "num_feats_sys_cont = list(set(num_cont_features).intersection(set(num_feats_sys_missing)))\n",
    "num_feats_rand_disc = list(set(num_disc_features).intersection(set(num_feats_rand_missing)))\n",
    "num_feats_sys_disc = list(set(num_disc_features).intersection(set(num_feats_sys_missing)))\n",
    "\n",
    "\n",
    "# categorical\n",
    "## categorical all features\n",
    "cat_feats = list(X_train_category.columns)\n",
    "\n",
    "## random vs systematically missing\n",
    "cat_feats_rand_missing = ['electrical', 'exterior1st', 'functional', 'kitchenqual', 'mszoning', 'saletype']\n",
    "cat_feats_sys_missing = list(set(cat_feats) - set(cat_feats_rand_missing))\n",
    "\n",
    "# ordinal vs nominal\n",
    "cat_feats_nominal = ['alley','bldgtype','condition1','condition2','electrical','exterior1st','exterior2nd','fence',\n",
    "               'foundation','garagetype','heating','housestyle','landcontour','lotconfig','mszoning',\n",
    "               'masvnrtype','miscfeature','neighborhood','roofmatl','roofstyle','salecondition','saletype']\n",
    "cat_feats_ordinal = set(cat_feats) - set(cat_feats_nominal)\n",
    "\n",
    "# categorical splits for pipeline\n",
    "cat_feats_rand_nom = list(set(cat_feats_nominal).intersection(set(cat_feats_rand_missing)))\n",
    "cat_feats_sys_nom = list(set(cat_feats_nominal).intersection(set(cat_feats_sys_missing)))\n",
    "cat_feats_rand_ord = list(set(cat_feats_ordinal).intersection(set(cat_feats_rand_missing)))\n",
    "cat_feats_sys_ord = list(set(cat_feats_ordinal).intersection(set(cat_feats_sys_missing)))\n",
    "\n",
    "# assert statements to check for missing values\n",
    "## all feats check\n",
    "assert(set(num_feats).union(set(cat_feats)) == set(list(X_train.columns)))\n",
    "\n",
    "## num feats checks\n",
    "assert(set(num_feats_rand_missing).union(set(num_feats_sys_missing)) == set(num_feats))\n",
    "assert(set(num_cont_features).union(set(num_disc_features)) == set(num_feats))\n",
    "assert(set(num_cont_features).union(set(num_disc_features)).union(set(num_feats_rand_missing)).union(set(num_feats_sys_missing)) == set(num_feats))\n",
    "\n",
    "## cat feats checks\n",
    "assert(set(cat_feats_rand_missing).union(set(cat_feats_sys_missing)) == set(cat_feats))\n",
    "assert(set(cat_feats_nominal).union(set(cat_feats_ordinal)) == set(cat_feats))\n",
    "assert(set(cat_feats_rand_ord).union(set(cat_feats_sys_ord)).union(set(cat_feats_rand_nom)).union(set(cat_feats_sys_nom)) == set(cat_feats))"
   ]
  },
  {
   "cell_type": "markdown",
   "metadata": {},
   "source": [
    "## Pipeline"
   ]
  },
  {
   "cell_type": "markdown",
   "metadata": {},
   "source": [
    "A non-exhausive list of preprocessing steps is given below:\n",
    "* text vectorization\n",
    "* categorical data encoding (e.g., one hot)\n",
    "* missing values and outliers processing\n",
    "* rescaling (e.g., normalization, standardization, min-max scaling)\n",
    "* variables discretization\n",
    "* dimensionality reduction\n",
    "\n",
    "In the pipeline below we will hadle:\n",
    "* categorical data encoding (e.g., one hot)\n",
    "* missing values and outliers processing\n",
    "* rescaling (e.g., normalization, standardization, min-max scaling)\n"
   ]
  },
  {
   "cell_type": "code",
   "execution_count": 256,
   "metadata": {},
   "outputs": [],
   "source": [
    "from sklearn.pipeline import FeatureUnion\n",
    "from sklearn.compose import ColumnTransformer\n",
    "from sklearn.impute import SimpleImputer\n",
    "from sklearn.preprocessing import StandardScaler, RobustScaler, PolynomialFeatures, power_transform, PowerTransformer\n",
    "from sklearn.decomposition import TruncatedSVD, PCA, SparsePCA\n",
    "\n",
    "from sklearn.linear_model import Ridge\n",
    "from sklearn.linear_model import Lasso\n",
    "from sklearn.linear_model import ElasticNet\n",
    "from sklearn.linear_model import BayesianRidge\n",
    "from sklearn.linear_model import LassoLars\n",
    "from sklearn.svm import SVR\n",
    "from sklearn.kernel_ridge import KernelRidge\n",
    "from sklearn.tree import DecisionTreeRegressor\n",
    "from sklearn.ensemble import RandomForestRegressor\n",
    "from sklearn.ensemble import GradientBoostingRegressor\n",
    "\n",
    "from sklearn.linear_model import LinearRegression\n",
    "from sklearn.model_selection import cross_val_score\n",
    "from sklearn.model_selection import cross_val_predict\n",
    "\n",
    "from xgboost import XGBRegressor\n",
    "from sklearn.base import TransformerMixin\n",
    "\n",
    "from mlxtend.feature_selection import ExhaustiveFeatureSelector as EFS\n",
    "from mlxtend.feature_selection import SequentialFeatureSelector as SFS\n",
    "from sklearn.feature_selection import SelectFromModel, SelectKBest, SelectPercentile, RFE\n",
    "from sklearn.feature_selection import f_regression\n",
    "\n",
    "import warnings"
   ]
  },
  {
   "cell_type": "code",
   "execution_count": 257,
   "metadata": {},
   "outputs": [],
   "source": [
    "# implement dense transformer to handle BayesianRidge model which can not handle sparse matricies\n",
    "class DenseTransformer(TransformerMixin):\n",
    "\n",
    "    def fit(self, X, y=None, **fit_params):\n",
    "        return self\n",
    "\n",
    "    def transform(self, X, y=None, **fit_params):\n",
    "        try:\n",
    "            return X.toarray()\n",
    "        except:\n",
    "            return X"
   ]
  },
  {
   "cell_type": "code",
   "execution_count": 258,
   "metadata": {},
   "outputs": [],
   "source": [
    "def make_pipeline(num_rand_miss_imputer, num_sys_miss_imputer, num_scaler, num_skewer,\n",
    "                  cat_rand_miss_imputer, cat_sys_miss_imputer, cat_encoder_nom, cat_encoder_ord, \n",
    "                  model):\n",
    "    \n",
    "    \n",
    "    # transformation\n",
    "    # numerical transformation\n",
    "    num_comp_rand_cont = (\"numerical_random_continuous\", ColumnTransformer([\n",
    "                                (\"numerical\", Pipeline(steps=[\n",
    "                                    (\"impute_ran_stage\", num_rand_miss_imputer),\n",
    "                                    ('skew', num_skewer)]), num_feats_rand_cont\n",
    "                                )])\n",
    "                            )\n",
    "    \n",
    "    num_comp_sys_cont = (\"numerical_systematic_continuous\", ColumnTransformer([\n",
    "                                (\"numerical\", Pipeline(steps=[\n",
    "                                    (\"impute_sys_stage\", num_sys_miss_imputer),\n",
    "                                    ('skew', num_skewer)]), num_feats_sys_cont\n",
    "                                )])\n",
    "                            )\n",
    "    \n",
    "\n",
    "    num_comp_rand_disc = (\"numerical_random_discrete\", ColumnTransformer([\n",
    "                                (\"numerical\", Pipeline(steps=[\n",
    "                                    (\"impute_ran_stage\", num_rand_miss_imputer),\n",
    "                                    ('scaler', num_scaler)]), num_feats_rand_disc\n",
    "                                )])\n",
    "                            )\n",
    "    \n",
    "    num_comp_sys_disc = (\"numerical_systematic_discrete\", ColumnTransformer([\n",
    "                                (\"numerical\", Pipeline(steps=[\n",
    "                                    (\"impute_sys_stage\", num_sys_miss_imputer),\n",
    "                                    ('scaler', num_scaler)]), num_feats_sys_disc\n",
    "                                )])\n",
    "                            )\n",
    "\n",
    "         \n",
    "    # categorical transformation\n",
    "    cat_comp_rand_nom = (\"categorical_rand_miss_nominal_features\", ColumnTransformer([\n",
    "                                (\"categorical\", Pipeline(steps=[\n",
    "                                    (\"impute_rand_stage\", cat_rand_miss_imputer),\n",
    "                                    (\"label_encoder\", cat_encoder_nom)]), cat_feats_rand_nom\n",
    "                                )])\n",
    "                           )\n",
    "\n",
    "    cat_comp_sys_nom = (\"categorical_sys_miss_nominal_features\", ColumnTransformer([\n",
    "                                (\"categorical\", Pipeline(steps=[\n",
    "                                    (\"impute_sys_stage\", cat_sys_miss_imputer),\n",
    "                                    (\"label_encoder\", cat_encoder_nom)]), cat_feats_sys_nom\n",
    "                                )])\n",
    "                           )\n",
    "    \n",
    "    cat_comp_rand_ord = (\"categorical_rand_miss_ordinal_features\", ColumnTransformer([\n",
    "                                (\"categorical\", Pipeline(steps=[\n",
    "                                    (\"impute_rand_stage\", cat_rand_miss_imputer),\n",
    "                                    (\"label_encoder\", cat_encoder_ord)]), cat_feats_rand_ord\n",
    "                                )])\n",
    "                           )\n",
    "    \n",
    "    cat_comp_sys_ord = (\"categorical_sys_miss_ordinal_features\", ColumnTransformer([\n",
    "                                (\"categorical\", Pipeline(steps=[\n",
    "                                    (\"impute_sys_stage\", cat_sys_miss_imputer),\n",
    "                                    (\"label_encoder\", cat_encoder_ord)]), cat_feats_sys_ord\n",
    "                                )])\n",
    "                           )\n",
    "    \n",
    "    \n",
    "    # transformation component for pipeline\n",
    "    trans_comp = (\"features\", FeatureUnion([num_comp_rand_cont, num_comp_sys_cont, num_comp_rand_disc, num_comp_sys_disc,\n",
    "                                            cat_comp_sys_nom, cat_comp_rand_nom, cat_comp_sys_ord, cat_comp_rand_ord]))\n",
    "\n",
    "\n",
    "    # outlier detection and removal\n",
    "    # not implemented: could be done using imblearn\n",
    "\n",
    "\n",
    "    # model\n",
    "    model_comp = (\"regressor\", model)\n",
    "\n",
    "    # final pipeline\n",
    "    if model.__class__.__name__ == 'BayesianRidge':\n",
    "        pipeline = Pipeline(steps=[trans_comp, ('to_dense', DenseTransformer()), model_comp]) \n",
    "    else:\n",
    "        pipeline = Pipeline(steps=[trans_comp, model_comp])\n",
    "        \n",
    "    return pipeline"
   ]
  },
  {
   "cell_type": "markdown",
   "metadata": {},
   "source": [
    "## Tune Model\n",
    "\n",
    "This section is used to tune each model to be looked at in this analysis. Once tuned, the optimal params are inputted in the fit all pipeline sections: so that we can create dataFrames to effectively compare the models, create stacks and create blends."
   ]
  },
  {
   "cell_type": "code",
   "execution_count": 265,
   "metadata": {},
   "outputs": [
    {
     "name": "stdout",
     "output_type": "stream",
     "text": [
      "['self', 'alpha', 'fit_intercept', 'normalize', 'precompute', 'copy_X', 'max_iter', 'tol', 'warm_start', 'positive', 'random_state', 'selection']\n",
      "<bound method BaseEstimator.get_params of Lasso(alpha=1.0, copy_X=True, fit_intercept=True, max_iter=1000,\n",
      "      normalize=False, positive=False, precompute=False, random_state=None,\n",
      "      selection='cyclic', tol=0.0001, warm_start=False)>\n"
     ]
    },
    {
     "data": {
      "text/plain": [
       "0.3841775701091205"
      ]
     },
     "execution_count": 265,
     "metadata": {},
     "output_type": "execute_result"
    }
   ],
   "source": [
    "import inspect\n",
    "\n",
    "# numerical \n",
    "num_rand_miss_imputer = SimpleImputer(missing_values=np.nan, strategy=\"median\")\n",
    "num_sys_miss_imputer = SimpleImputer(missing_values=np.nan, strategy=\"constant\", fill_value=0)\n",
    "num_scaler = RobustScaler()\n",
    "num_skewer = PowerTransformer()\n",
    "\n",
    "# categorical\n",
    "cat_rand_miss_imputer = SimpleImputer(missing_values=np.nan, strategy=\"most_frequent\")\n",
    "cat_sys_miss_imputer = SimpleImputer(missing_values=np.nan, strategy=\"constant\", fill_value='na')\n",
    "cat_encoder_nom = OneHotEncoder(handle_unknown=\"ignore\")\n",
    "cat_encoder_ord = OneHotEncoder(handle_unknown=\"ignore\")\n",
    "\n",
    "# model\n",
    "model = Lasso(max_iter=1000)\n",
    "\n",
    "# get hyperparams\n",
    "hyperparams = inspect.getfullargspec(model.__init__).args\n",
    "print(hyperparams) \n",
    "print(model.get_params)\n",
    "\n",
    "pipeline = make_pipeline(num_rand_miss_imputer, \n",
    "                         num_sys_miss_imputer, \n",
    "                         num_scaler,\n",
    "                         num_skewer,\n",
    "                         cat_rand_miss_imputer, \n",
    "                         cat_sys_miss_imputer, \n",
    "                         cat_encoder_nom,\n",
    "                         cat_encoder_ord, \n",
    "                         model)\n",
    "\n",
    "pipeline.fit(X_train_full, y_train_full)\n",
    "\n",
    "cross_val_RMSE(pipeline, X_train_full, y_train_full, cv=5)"
   ]
  },
  {
   "cell_type": "markdown",
   "metadata": {},
   "source": [
    "Now we have our pipeline we can optimize our model parameters."
   ]
  },
  {
   "cell_type": "code",
   "execution_count": 266,
   "metadata": {},
   "outputs": [],
   "source": [
    "## ToDo implement bayesian-optimization using Scikit-Optimize\n",
    "\n",
    "from skopt.space import Real, Integer\n",
    "from skopt.utils import use_named_args\n",
    "# The list of hyper-parameters we want to optimize. For each one we define the bounds,\n",
    "# the corresponding scikit-learn parameter name, as well as how to sample values\n",
    "# from that dimension (`'log-uniform'` for the learning rate)\n",
    "space  = [#Integer(1000, 10000000, name='regressor__max_iter'),\n",
    "          Real(0.0001, 0.0009, \"uniform\", name='regressor__alpha')]\n",
    "\n",
    "# this decorator allows your objective function to receive a the parameters as\n",
    "# keyword arguments. This is particularly convenient when you want to set scikit-learn\n",
    "# estimator param\n",
    "\n",
    "@use_named_args(space)\n",
    "def objective(**params):\n",
    "    pipeline.set_params(**params)\n",
    "\n",
    "    return ((-np.mean(cross_val_score(pipeline, X_train_full, y_train_full, cv=5, n_jobs=-1,\n",
    "                                    scoring=\"neg_mean_squared_error\")))**(1/2))"
   ]
  },
  {
   "cell_type": "code",
   "execution_count": 267,
   "metadata": {},
   "outputs": [
    {
     "name": "stderr",
     "output_type": "stream",
     "text": [
      "/Users/IainMac/anaconda3/envs/portfolio_machinelearning/lib/python3.7/site-packages/skopt/optimizer/optimizer.py:399: UserWarning: The objective has been evaluated at this point before.\n",
      "  warnings.warn(\"The objective has been evaluated \"\n",
      "/Users/IainMac/anaconda3/envs/portfolio_machinelearning/lib/python3.7/site-packages/skopt/optimizer/optimizer.py:399: UserWarning: The objective has been evaluated at this point before.\n",
      "  warnings.warn(\"The objective has been evaluated \"\n",
      "/Users/IainMac/anaconda3/envs/portfolio_machinelearning/lib/python3.7/site-packages/skopt/optimizer/optimizer.py:399: UserWarning: The objective has been evaluated at this point before.\n",
      "  warnings.warn(\"The objective has been evaluated \"\n",
      "/Users/IainMac/anaconda3/envs/portfolio_machinelearning/lib/python3.7/site-packages/skopt/optimizer/optimizer.py:399: UserWarning: The objective has been evaluated at this point before.\n",
      "  warnings.warn(\"The objective has been evaluated \"\n",
      "/Users/IainMac/anaconda3/envs/portfolio_machinelearning/lib/python3.7/site-packages/skopt/optimizer/optimizer.py:399: UserWarning: The objective has been evaluated at this point before.\n",
      "  warnings.warn(\"The objective has been evaluated \"\n",
      "/Users/IainMac/anaconda3/envs/portfolio_machinelearning/lib/python3.7/site-packages/skopt/optimizer/optimizer.py:399: UserWarning: The objective has been evaluated at this point before.\n",
      "  warnings.warn(\"The objective has been evaluated \"\n",
      "/Users/IainMac/anaconda3/envs/portfolio_machinelearning/lib/python3.7/site-packages/skopt/optimizer/optimizer.py:399: UserWarning: The objective has been evaluated at this point before.\n",
      "  warnings.warn(\"The objective has been evaluated \"\n",
      "/Users/IainMac/anaconda3/envs/portfolio_machinelearning/lib/python3.7/site-packages/skopt/optimizer/optimizer.py:399: UserWarning: The objective has been evaluated at this point before.\n",
      "  warnings.warn(\"The objective has been evaluated \"\n",
      "/Users/IainMac/anaconda3/envs/portfolio_machinelearning/lib/python3.7/site-packages/skopt/optimizer/optimizer.py:399: UserWarning: The objective has been evaluated at this point before.\n",
      "  warnings.warn(\"The objective has been evaluated \"\n",
      "/Users/IainMac/anaconda3/envs/portfolio_machinelearning/lib/python3.7/site-packages/skopt/optimizer/optimizer.py:399: UserWarning: The objective has been evaluated at this point before.\n",
      "  warnings.warn(\"The objective has been evaluated \"\n",
      "/Users/IainMac/anaconda3/envs/portfolio_machinelearning/lib/python3.7/site-packages/skopt/optimizer/optimizer.py:399: UserWarning: The objective has been evaluated at this point before.\n",
      "  warnings.warn(\"The objective has been evaluated \"\n",
      "/Users/IainMac/anaconda3/envs/portfolio_machinelearning/lib/python3.7/site-packages/skopt/optimizer/optimizer.py:399: UserWarning: The objective has been evaluated at this point before.\n",
      "  warnings.warn(\"The objective has been evaluated \"\n",
      "/Users/IainMac/anaconda3/envs/portfolio_machinelearning/lib/python3.7/site-packages/skopt/optimizer/optimizer.py:399: UserWarning: The objective has been evaluated at this point before.\n",
      "  warnings.warn(\"The objective has been evaluated \"\n",
      "/Users/IainMac/anaconda3/envs/portfolio_machinelearning/lib/python3.7/site-packages/skopt/optimizer/optimizer.py:399: UserWarning: The objective has been evaluated at this point before.\n",
      "  warnings.warn(\"The objective has been evaluated \"\n",
      "/Users/IainMac/anaconda3/envs/portfolio_machinelearning/lib/python3.7/site-packages/skopt/optimizer/optimizer.py:399: UserWarning: The objective has been evaluated at this point before.\n",
      "  warnings.warn(\"The objective has been evaluated \"\n",
      "/Users/IainMac/anaconda3/envs/portfolio_machinelearning/lib/python3.7/site-packages/skopt/optimizer/optimizer.py:399: UserWarning: The objective has been evaluated at this point before.\n",
      "  warnings.warn(\"The objective has been evaluated \"\n",
      "/Users/IainMac/anaconda3/envs/portfolio_machinelearning/lib/python3.7/site-packages/skopt/optimizer/optimizer.py:399: UserWarning: The objective has been evaluated at this point before.\n",
      "  warnings.warn(\"The objective has been evaluated \"\n",
      "/Users/IainMac/anaconda3/envs/portfolio_machinelearning/lib/python3.7/site-packages/skopt/optimizer/optimizer.py:399: UserWarning: The objective has been evaluated at this point before.\n",
      "  warnings.warn(\"The objective has been evaluated \"\n",
      "/Users/IainMac/anaconda3/envs/portfolio_machinelearning/lib/python3.7/site-packages/skopt/optimizer/optimizer.py:399: UserWarning: The objective has been evaluated at this point before.\n",
      "  warnings.warn(\"The objective has been evaluated \"\n",
      "/Users/IainMac/anaconda3/envs/portfolio_machinelearning/lib/python3.7/site-packages/skopt/optimizer/optimizer.py:399: UserWarning: The objective has been evaluated at this point before.\n",
      "  warnings.warn(\"The objective has been evaluated \"\n",
      "/Users/IainMac/anaconda3/envs/portfolio_machinelearning/lib/python3.7/site-packages/skopt/optimizer/optimizer.py:399: UserWarning: The objective has been evaluated at this point before.\n",
      "  warnings.warn(\"The objective has been evaluated \"\n",
      "/Users/IainMac/anaconda3/envs/portfolio_machinelearning/lib/python3.7/site-packages/skopt/optimizer/optimizer.py:399: UserWarning: The objective has been evaluated at this point before.\n",
      "  warnings.warn(\"The objective has been evaluated \"\n",
      "/Users/IainMac/anaconda3/envs/portfolio_machinelearning/lib/python3.7/site-packages/skopt/optimizer/optimizer.py:399: UserWarning: The objective has been evaluated at this point before.\n",
      "  warnings.warn(\"The objective has been evaluated \"\n",
      "/Users/IainMac/anaconda3/envs/portfolio_machinelearning/lib/python3.7/site-packages/skopt/optimizer/optimizer.py:399: UserWarning: The objective has been evaluated at this point before.\n",
      "  warnings.warn(\"The objective has been evaluated \"\n",
      "/Users/IainMac/anaconda3/envs/portfolio_machinelearning/lib/python3.7/site-packages/skopt/optimizer/optimizer.py:399: UserWarning: The objective has been evaluated at this point before.\n",
      "  warnings.warn(\"The objective has been evaluated \"\n",
      "/Users/IainMac/anaconda3/envs/portfolio_machinelearning/lib/python3.7/site-packages/skopt/optimizer/optimizer.py:399: UserWarning: The objective has been evaluated at this point before.\n",
      "  warnings.warn(\"The objective has been evaluated \"\n"
     ]
    },
    {
     "data": {
      "text/plain": [
       "'Best score=0.1043'"
      ]
     },
     "execution_count": 267,
     "metadata": {},
     "output_type": "execute_result"
    }
   ],
   "source": [
    "from skopt import gp_minimize\n",
    "import numpy as np\n",
    "res_gp = gp_minimize(objective, space, n_calls=50, random_state=0)\n",
    "\n",
    "\"Best score=%.4f\" % res_gp.fun"
   ]
  },
  {
   "cell_type": "code",
   "execution_count": 268,
   "metadata": {},
   "outputs": [
    {
     "name": "stdout",
     "output_type": "stream",
     "text": [
      "Best parameters:\n",
      "regressor__alpha=0.000482, \n",
      "\n"
     ]
    }
   ],
   "source": [
    "print(\"\"\"Best parameters:\n",
    "regressor__alpha=%.6f, \n",
    "\"\"\" % (res_gp.x[0]))"
   ]
  },
  {
   "cell_type": "markdown",
   "metadata": {},
   "source": [
    "## Fit All Pipelines "
   ]
  },
  {
   "cell_type": "markdown",
   "metadata": {},
   "source": [
    "Now we will look at different combinations of models and transformation components to see which gives the best cross validated score."
   ]
  },
  {
   "cell_type": "code",
   "execution_count": 45,
   "metadata": {},
   "outputs": [
    {
     "name": "stdout",
     "output_type": "stream",
     "text": [
      "training ... BayesianRidge\n",
      "training ... Ridge\n",
      "training ... SVR\n",
      "training ... GradientBoostingRegressor\n",
      "training ... XGBRegressor\n",
      "training ... LinearRegression\n"
     ]
    }
   ],
   "source": [
    "# one warning which can not be turned off\n",
    "warnings.filterwarnings(action='ignore')\n",
    "\n",
    "# numerical \n",
    "num_rand_miss_imputers = [SimpleImputer(missing_values=np.nan, strategy=\"median\")]\n",
    "num_sys_miss_imputers = [SimpleImputer(missing_values=np.nan, strategy=\"constant\", fill_value=0)]\n",
    "num_scalers = [RobustScaler()]\n",
    "num_skewers = [PowerTransformer()]\n",
    "\n",
    "\n",
    "# categorical\n",
    "# NOTE: originally experimented with other encoding methods. the leaveoneoutencoder and ordinal encoder worked best,\n",
    "# but only for models which were less performant, namely Kernel Ridge (LOO) and DecisionTree/RandomForest (OO)\n",
    "cat_rand_miss_imputers = [SimpleImputer(missing_values=np.nan, strategy=\"most_frequent\")]\n",
    "cat_sys_miss_imputers = [SimpleImputer(missing_values=np.nan, strategy=\"constant\", fill_value='na')]\n",
    "cat_encoder_noms = [OneHotEncoder(handle_unknown=\"ignore\")]\n",
    "cat_encoder_ords = [OneHotEncoder(handle_unknown=\"ignore\")]\n",
    "\n",
    "\n",
    "# models\n",
    "models = [Lasso(max_iter=10000, alpha=0.000482),\n",
    "          BayesianRidge(alpha_1=1,alpha_2=1, lambda_1=1, lambda_2=0),\n",
    "          Ridge(alpha = 13), \n",
    "          SVR(C= 20, epsilon= 0.008, gamma=0.0003),          \n",
    "          GradientBoostingRegressor(n_estimators=3000, \n",
    "                                    learning_rate=0.05, \n",
    "                                    max_depth=4, \n",
    "                                    max_features='sqrt', \n",
    "                                    min_samples_leaf=15, \n",
    "                                    min_samples_split=10, \n",
    "                                    loss='huber', \n",
    "                                    random_state =42)  ,\n",
    "          XGBRegressor(learning_rate=0.01,n_estimators=3460,\n",
    "                                     max_depth=3, min_child_weight=0,\n",
    "                                     gamma=0, subsample=0.7,\n",
    "                                     colsample_bytree=0.7,\n",
    "                                     objective='reg:squarederror', nthread=-1,\n",
    "                                     scale_pos_weight=1, seed=27,\n",
    "                                     reg_alpha=0.00006), \n",
    "          LinearRegression()]\n",
    "\n",
    "\n",
    "\n",
    "''' original set of models tried: reduced to improve runtime\n",
    "models = [LinearRegression(), \n",
    "          Ridge(), \n",
    "          Lasso(), \n",
    "          ElasticNet(), \n",
    "          SVR(gamma='auto'), \n",
    "          DecisionTreeRegressor(), \n",
    "          RandomForestRegressor(n_estimators=10), \n",
    "          XGBRegressor(objective='reg:squarederror'), \n",
    "          KernelRidge(), \n",
    "          BayesianRidge(),\n",
    "          GradientBoostingRegressor()]\n",
    "          '''\n",
    "\n",
    "results = []\n",
    "paramss = []\n",
    "pipesss = []\n",
    "\n",
    "for num_rand_miss_imputer in num_rand_miss_imputers:\n",
    "    for num_sys_miss_imputer in num_sys_miss_imputers:\n",
    "        for num_scaler in num_scalers:\n",
    "            for num_skewer in num_skewers:\n",
    "                for cat_rand_miss_imputer in cat_rand_miss_imputers:\n",
    "                    for cat_sys_miss_imputer in cat_sys_miss_imputers:\n",
    "                        for cat_encoder_nom in cat_encoder_noms:\n",
    "                            for cat_encoder_ord in cat_encoder_ords:\n",
    "                                for model in models:\n",
    "                                    print('training ... ' + model.__class__.__name__)\n",
    "\n",
    "                                    # make pipeline\n",
    "                                    pipeline = make_pipeline(num_rand_miss_imputer, \n",
    "                                                             num_sys_miss_imputer, \n",
    "                                                             num_scaler,\n",
    "                                                             num_skewer,\n",
    "                                                             cat_rand_miss_imputer, \n",
    "                                                             cat_sys_miss_imputer, \n",
    "                                                             cat_encoder_nom, \n",
    "                                                             cat_encoder_ord, \n",
    "                                                             model)\n",
    "                                    # fit pipeline\n",
    "                                    pipeline.fit(X_train, y_train);\n",
    "\n",
    "                                    # cross validation score\n",
    "                                    ####score_cv = cross_val_score(pipeline, X_train, y_train, cv=5, scoring = \"neg_mean_squared_error\")\n",
    "                                    ####score_cv = (-score_cv.mean())**(1/2)\n",
    "                                    score_cv = cross_val_RMSE(pipeline, X_train, y_train, cv=5)\n",
    "\n",
    "                                    # test score\n",
    "                                    ##### score_test = (scoring(pipeline.predict(X_test), y_test)**(1/2))\n",
    "                                    score_test = RMSE(y_pred = pipeline.predict(X_test), y = y_test)\n",
    "                                    \n",
    "                                    # make pipeline\n",
    "                                    pipeline_full = make_pipeline(num_rand_miss_imputer, \n",
    "                                                             num_sys_miss_imputer, \n",
    "                                                             num_scaler,\n",
    "                                                             num_skewer,\n",
    "                                                             cat_rand_miss_imputer, \n",
    "                                                             cat_sys_miss_imputer, \n",
    "                                                             cat_encoder_nom, \n",
    "                                                             cat_encoder_ord, \n",
    "                                                             model)\n",
    "\n",
    "                                    \n",
    "                                    # fit pipeline full train set\n",
    "                                    pipeline_full.fit(X_train_full, y_train_full);\n",
    "\n",
    "                                    # cross validation score full train set\n",
    "                                    ##score_cv_full = cross_val_score(pipeline_full, X_train_full, y_train_full, cv=5, scoring = \"neg_mean_squared_error\")\n",
    "                                    ##score_cv_full = (-score_cv_full.mean())**(1/2)\n",
    "                                    score_cv_full = cross_val_RMSE(pipeline_full, X_train_full, y_train_full, cv=5)\n",
    "\n",
    "                                    # apend result of current iteration to table\n",
    "                                    results.append({'model': model.__class__.__name__,\n",
    "                                                    'cat_encoder_ord': cat_encoder_ord.__class__.__name__,\n",
    "                                                    'cat_encoder_nom': cat_encoder_nom.__class__.__name__,\n",
    "                                                    'cat_sys_miss_imputer': cat_sys_miss_imputer.__class__.__name__,\n",
    "                                                    'cat_rand_miss_imputer': cat_rand_miss_imputer.__class__.__name__,\n",
    "                                                    'num_skewer': num_skewer.__class__.__name__,\n",
    "                                                    'num_scaler': num_scaler.__class__.__name__,\n",
    "                                                    'num_sys_miss_imputer': num_sys_miss_imputer.__class__.__name__,\n",
    "                                                    'num_rand_miss_imputer': num_rand_miss_imputer.__class__.__name__,\n",
    "                                                    'z_cross_val_score_full': score_cv_full,\n",
    "                                                    'z_cross_val_score': score_cv,\n",
    "                                                    'z_test_Score': score_test})\n",
    "\n",
    "                                    paramss.append({'model': model,\n",
    "                                                    'cat_encoder_ord': cat_encoder_ord,\n",
    "                                                    'cat_encoder_nom': cat_encoder_nom,\n",
    "                                                    'cat_sys_miss_imputer': cat_sys_miss_imputer,\n",
    "                                                    'cat_rand_miss_imputer': cat_rand_miss_imputer,\n",
    "                                                    'num_skewer': num_skewer,\n",
    "                                                    'num_scaler': num_scaler,\n",
    "                                                    'num_sys_miss_imputer': num_sys_miss_imputer,\n",
    "                                                    'num_rand_miss_imputer': num_rand_miss_imputer,\n",
    "                                                    'z_cross_val_score_full': score_cv_full,\n",
    "                                                    'z_cross_val_score': score_cv,\n",
    "                                                    'z_test_Score': score_test})\n",
    "                                    \n",
    "                                    pipesss.append({'model': model.__class__.__name__,\n",
    "                                                    'pipeline': pipeline,\n",
    "                                                    'pipeline_full': pipeline_full,\n",
    "                                                    'z_cross_val_score_full': score_cv_full,\n",
    "                                                    'z_cross_val_score': score_cv,\n",
    "                                                    'z_test_Score': score_test})\n",
    "                                                \n",
    "# turn warnings back on\n",
    "warnings.filterwarnings(action='default')"
   ]
  },
  {
   "cell_type": "code",
   "execution_count": 46,
   "metadata": {},
   "outputs": [],
   "source": [
    "# crete data frame of results\n",
    "results = pd.DataFrame(results, columns = ['num_rand_miss_imputer', 'num_sys_miss_imputer', 'num_scaler', 'num_skewer',\n",
    "                                           'cat_rand_miss_imputer', 'cat_sys_miss_imputer', 'cat_encoder_nom', \n",
    "                                           'cat_encoder_ord', 'model', 'z_cross_val_score_full',\n",
    "                                           'z_cross_val_score', 'z_test_Score'])\n",
    "results.sort_values('z_cross_val_score_full', inplace=True)\n",
    "results.reset_index(drop=True, inplace=True)\n",
    "\n",
    "# create data frame of params\n",
    "paramss = pd.DataFrame(paramss, columns = ['num_rand_miss_imputer', 'num_sys_miss_imputer', 'num_scaler', 'num_skewer',\n",
    "                                           'cat_rand_miss_imputer', 'cat_sys_miss_imputer', 'cat_encoder_nom', \n",
    "                                           'cat_encoder_ord', 'model', 'z_cross_val_score_full',\n",
    "                                           'z_cross_val_score', 'z_test_Score'])\n",
    "paramss.sort_values('z_cross_val_score_full', inplace=True)\n",
    "paramss.reset_index(drop=True, inplace=True)\n",
    "\n",
    "# create data frame of params\n",
    "pipesss = pd.DataFrame(pipesss, columns = ['model', 'pipeline', 'pipeline_full', 'z_cross_val_score_full',\n",
    "                                           'z_cross_val_score', 'z_test_Score'])\n",
    "pipesss.sort_values('z_cross_val_score_full', inplace=True)\n",
    "pipesss.reset_index(drop=True, inplace=True)"
   ]
  },
  {
   "cell_type": "markdown",
   "metadata": {},
   "source": [
    "We will now take the top models with the relevant combination of transformation methods and select those with the top 6 performance metrics."
   ]
  },
  {
   "cell_type": "code",
   "execution_count": 47,
   "metadata": {},
   "outputs": [],
   "source": [
    "# num models to keep\n",
    "num_models_keep = 6\n",
    "\n",
    "# create indexes of top pipeline combinations\n",
    "models = list(results['model'].unique())\n",
    "idxs=[]\n",
    "\n",
    "for model in models:\n",
    "    idx = results[results['model']==model]['z_cross_val_score'].idxmin()\n",
    "    idxs.append(idx)\n",
    "    \n",
    "# create new dataFrame of top models\n",
    "top_models_results = results.iloc[idxs].copy()\n",
    "top_models_paramss = paramss.iloc[idxs].copy()\n",
    "top_models_pipesss = pipesss.iloc[idxs].copy()\n"
   ]
  },
  {
   "cell_type": "code",
   "execution_count": 48,
   "metadata": {
    "scrolled": false
   },
   "outputs": [
    {
     "data": {
      "text/html": [
       "<div>\n",
       "<style scoped>\n",
       "    .dataframe tbody tr th:only-of-type {\n",
       "        vertical-align: middle;\n",
       "    }\n",
       "\n",
       "    .dataframe tbody tr th {\n",
       "        vertical-align: top;\n",
       "    }\n",
       "\n",
       "    .dataframe thead th {\n",
       "        text-align: right;\n",
       "    }\n",
       "</style>\n",
       "<table border=\"1\" class=\"dataframe\">\n",
       "  <thead>\n",
       "    <tr style=\"text-align: right;\">\n",
       "      <th></th>\n",
       "      <th>num_rand_miss_imputer</th>\n",
       "      <th>num_sys_miss_imputer</th>\n",
       "      <th>num_scaler</th>\n",
       "      <th>num_skewer</th>\n",
       "      <th>cat_rand_miss_imputer</th>\n",
       "      <th>cat_sys_miss_imputer</th>\n",
       "      <th>cat_encoder_nom</th>\n",
       "      <th>cat_encoder_ord</th>\n",
       "      <th>model</th>\n",
       "      <th>z_cross_val_score_full</th>\n",
       "      <th>z_cross_val_score</th>\n",
       "      <th>z_test_Score</th>\n",
       "    </tr>\n",
       "  </thead>\n",
       "  <tbody>\n",
       "    <tr>\n",
       "      <th>0</th>\n",
       "      <td>SimpleImputer</td>\n",
       "      <td>SimpleImputer</td>\n",
       "      <td>RobustScaler</td>\n",
       "      <td>PowerTransformer</td>\n",
       "      <td>SimpleImputer</td>\n",
       "      <td>SimpleImputer</td>\n",
       "      <td>OneHotEncoder</td>\n",
       "      <td>OneHotEncoder</td>\n",
       "      <td>SVR</td>\n",
       "      <td>0.105032</td>\n",
       "      <td>0.109700</td>\n",
       "      <td>0.099895</td>\n",
       "    </tr>\n",
       "    <tr>\n",
       "      <th>1</th>\n",
       "      <td>SimpleImputer</td>\n",
       "      <td>SimpleImputer</td>\n",
       "      <td>RobustScaler</td>\n",
       "      <td>PowerTransformer</td>\n",
       "      <td>SimpleImputer</td>\n",
       "      <td>SimpleImputer</td>\n",
       "      <td>OneHotEncoder</td>\n",
       "      <td>OneHotEncoder</td>\n",
       "      <td>XGBRegressor</td>\n",
       "      <td>0.106327</td>\n",
       "      <td>0.109810</td>\n",
       "      <td>0.102610</td>\n",
       "    </tr>\n",
       "    <tr>\n",
       "      <th>2</th>\n",
       "      <td>SimpleImputer</td>\n",
       "      <td>SimpleImputer</td>\n",
       "      <td>RobustScaler</td>\n",
       "      <td>PowerTransformer</td>\n",
       "      <td>SimpleImputer</td>\n",
       "      <td>SimpleImputer</td>\n",
       "      <td>OneHotEncoder</td>\n",
       "      <td>OneHotEncoder</td>\n",
       "      <td>BayesianRidge</td>\n",
       "      <td>0.106388</td>\n",
       "      <td>0.108528</td>\n",
       "      <td>0.099792</td>\n",
       "    </tr>\n",
       "    <tr>\n",
       "      <th>3</th>\n",
       "      <td>SimpleImputer</td>\n",
       "      <td>SimpleImputer</td>\n",
       "      <td>RobustScaler</td>\n",
       "      <td>PowerTransformer</td>\n",
       "      <td>SimpleImputer</td>\n",
       "      <td>SimpleImputer</td>\n",
       "      <td>OneHotEncoder</td>\n",
       "      <td>OneHotEncoder</td>\n",
       "      <td>Ridge</td>\n",
       "      <td>0.106615</td>\n",
       "      <td>0.108596</td>\n",
       "      <td>0.100103</td>\n",
       "    </tr>\n",
       "    <tr>\n",
       "      <th>4</th>\n",
       "      <td>SimpleImputer</td>\n",
       "      <td>SimpleImputer</td>\n",
       "      <td>RobustScaler</td>\n",
       "      <td>PowerTransformer</td>\n",
       "      <td>SimpleImputer</td>\n",
       "      <td>SimpleImputer</td>\n",
       "      <td>OneHotEncoder</td>\n",
       "      <td>OneHotEncoder</td>\n",
       "      <td>GradientBoostingRegressor</td>\n",
       "      <td>0.110680</td>\n",
       "      <td>0.111533</td>\n",
       "      <td>0.108392</td>\n",
       "    </tr>\n",
       "    <tr>\n",
       "      <th>5</th>\n",
       "      <td>SimpleImputer</td>\n",
       "      <td>SimpleImputer</td>\n",
       "      <td>RobustScaler</td>\n",
       "      <td>PowerTransformer</td>\n",
       "      <td>SimpleImputer</td>\n",
       "      <td>SimpleImputer</td>\n",
       "      <td>OneHotEncoder</td>\n",
       "      <td>OneHotEncoder</td>\n",
       "      <td>LinearRegression</td>\n",
       "      <td>0.118480</td>\n",
       "      <td>0.122817</td>\n",
       "      <td>0.136931</td>\n",
       "    </tr>\n",
       "  </tbody>\n",
       "</table>\n",
       "</div>"
      ],
      "text/plain": [
       "  num_rand_miss_imputer num_sys_miss_imputer    num_scaler        num_skewer  \\\n",
       "0         SimpleImputer        SimpleImputer  RobustScaler  PowerTransformer   \n",
       "1         SimpleImputer        SimpleImputer  RobustScaler  PowerTransformer   \n",
       "2         SimpleImputer        SimpleImputer  RobustScaler  PowerTransformer   \n",
       "3         SimpleImputer        SimpleImputer  RobustScaler  PowerTransformer   \n",
       "4         SimpleImputer        SimpleImputer  RobustScaler  PowerTransformer   \n",
       "5         SimpleImputer        SimpleImputer  RobustScaler  PowerTransformer   \n",
       "\n",
       "  cat_rand_miss_imputer cat_sys_miss_imputer cat_encoder_nom cat_encoder_ord  \\\n",
       "0         SimpleImputer        SimpleImputer   OneHotEncoder   OneHotEncoder   \n",
       "1         SimpleImputer        SimpleImputer   OneHotEncoder   OneHotEncoder   \n",
       "2         SimpleImputer        SimpleImputer   OneHotEncoder   OneHotEncoder   \n",
       "3         SimpleImputer        SimpleImputer   OneHotEncoder   OneHotEncoder   \n",
       "4         SimpleImputer        SimpleImputer   OneHotEncoder   OneHotEncoder   \n",
       "5         SimpleImputer        SimpleImputer   OneHotEncoder   OneHotEncoder   \n",
       "\n",
       "                       model  z_cross_val_score_full  z_cross_val_score  \\\n",
       "0                        SVR                0.105032           0.109700   \n",
       "1               XGBRegressor                0.106327           0.109810   \n",
       "2              BayesianRidge                0.106388           0.108528   \n",
       "3                      Ridge                0.106615           0.108596   \n",
       "4  GradientBoostingRegressor                0.110680           0.111533   \n",
       "5           LinearRegression                0.118480           0.122817   \n",
       "\n",
       "   z_test_Score  \n",
       "0      0.099895  \n",
       "1      0.102610  \n",
       "2      0.099792  \n",
       "3      0.100103  \n",
       "4      0.108392  \n",
       "5      0.136931  "
      ]
     },
     "execution_count": 48,
     "metadata": {},
     "output_type": "execute_result"
    }
   ],
   "source": [
    "top_models_results.reset_index(drop=True, inplace=True)\n",
    "top_models_paramss.reset_index(drop=True, inplace=True)\n",
    "top_models_pipesss.reset_index(drop=True, inplace=True)\n",
    "\n",
    "top_models_paramss = top_models_paramss[0:num_models_keep]\n",
    "top_models_pipesss = top_models_pipesss[0:num_models_keep]\n",
    "top_models_results = top_models_results[0:num_models_keep]\n",
    "\n",
    "top_models_results"
   ]
  },
  {
   "cell_type": "markdown",
   "metadata": {},
   "source": [
    "## Best Model\n",
    "\n",
    "From the table above we can see that SVR is the model with the best cross validated scores on the full training set. We will create a submission using this model and then try stacking and ensemble methods to see if we can improve."
   ]
  },
  {
   "cell_type": "code",
   "execution_count": 287,
   "metadata": {},
   "outputs": [
    {
     "name": "stdout",
     "output_type": "stream",
     "text": [
      "     Id      SalePrice\n",
      "0  1461  120940.945647\n",
      "1  1462  165129.068150\n",
      "2  1463  192408.490742\n",
      "3  1464  205356.088789\n",
      "4  1465  188822.943755\n"
     ]
    }
   ],
   "source": [
    "best_pipeline = top_models_pipesss['pipeline_full'][0]\n",
    "y_pred_full = best_pipeline.predict(X_test_full)\n",
    "\n",
    "y_pred_full = np.exp(y_pred_full)\n",
    "\n",
    "# create submission\n",
    "df_id = df_sample_submission.drop('SalePrice', axis=1)\n",
    "df_submission = df_id.merge(pd.DataFrame(y_pred_full, columns=['SalePrice']),left_index=True,right_index=True)\n",
    "\n",
    "# check sumbission format\n",
    "print(df_submission.head())\n",
    "\n",
    "# save submission to folder\n",
    "save_folder = \"/Users/IainMac/Desktop/Learning/01 Portfolio/02 Machine Learning/01 Regression/00 Kaggle Submissions/\"\n",
    "save_name = 'submission.csv'\n",
    "df_submission.to_csv(path_or_buf = save_folder + save_name, index=False)"
   ]
  },
  {
   "cell_type": "code",
   "execution_count": 289,
   "metadata": {},
   "outputs": [
    {
     "name": "stderr",
     "output_type": "stream",
     "text": [
      "100%|██████████| 33.7k/33.7k [00:06<00:00, 5.27kB/s]\n",
      "/Users/IainMac/anaconda3/envs/portfolio_machinelearning/lib/python3.7/site-packages/kaggle/api/kaggle_api_extended.py:515: ResourceWarning: unclosed <socket.socket fd=82, family=AddressFamily.AF_INET, type=SocketKind.SOCK_STREAM, proto=6, laddr=('192.168.150.192', 57075), raddr=('216.58.199.138', 443)>\n",
      "  url_result['createUrl'], quiet)\n",
      "ResourceWarning: Enable tracemalloc to get the object allocation traceback\n"
     ]
    },
    {
     "data": {
      "text/plain": [
       "Successfully submitted to House Prices: Advanced Regression Techniques"
      ]
     },
     "execution_count": 289,
     "metadata": {},
     "output_type": "execute_result"
    }
   ],
   "source": [
    "# submit\n",
    "# api.competition_submit(save_folder + save_name, message='submission: svr' ,competition=competition)"
   ]
  },
  {
   "cell_type": "markdown",
   "metadata": {},
   "source": [
    "## Stacked Model"
   ]
  },
  {
   "cell_type": "markdown",
   "metadata": {},
   "source": [
    "Use mlxtd to create a stacked model using the top 5 combinations of models. "
   ]
  },
  {
   "cell_type": "code",
   "execution_count": 124,
   "metadata": {},
   "outputs": [],
   "source": [
    "from mlxtend.regressor import StackingCVRegressor\n",
    "from mlxtend.regressor import StackingRegressor"
   ]
  },
  {
   "cell_type": "code",
   "execution_count": 125,
   "metadata": {},
   "outputs": [
    {
     "name": "stdout",
     "output_type": "stream",
     "text": [
      "cross val score: 0.1073973851122487\n"
     ]
    }
   ],
   "source": [
    "# one warning which can not be turned off\n",
    "warnings.filterwarnings(action='ignore')\n",
    "\n",
    "# create stack full trained pipelines\n",
    "stacked_pipelines_full = []\n",
    "\n",
    "for row in top_models_pipesss.index:\n",
    "    pipeline_full = top_models_pipesss[row:row+1]['pipeline_full'][row]\n",
    "    stacked_pipelines_full.append(pipeline_full)\n",
    "    \n",
    "# stacked model\n",
    "stacked_pipelines_full = tuple(stacked_pipelines_full)\n",
    "stack_full = StackingRegressor(regressors=stacked_pipelines_full,\n",
    "                            meta_regressor=XGBRegressor(objective='reg:squarederror'));\n",
    "\n",
    "# fit model stacked model\n",
    "stack_full.fit(X_train_full, y_train_full);\n",
    "\n",
    "# cross validate stacked model\n",
    "cv = cross_val_RMSE(stack_full, X_train_full, y_train_full, cv=5)\n",
    "#cv = cross_val_score(stack_full, X_train_full, y_train_full, cv=5, scoring='neg_mean_squared_error')\n",
    "print('cross val score: ' + str(cv))\n",
    "    "
   ]
  },
  {
   "cell_type": "code",
   "execution_count": 823,
   "metadata": {},
   "outputs": [
    {
     "name": "stdout",
     "output_type": "stream",
     "text": [
      "     Id      SalePrice\n",
      "0  1461  120175.757812\n",
      "1  1462  172372.984375\n",
      "2  1463  188938.812500\n",
      "3  1464  191298.546875\n",
      "4  1465  186555.875000\n"
     ]
    }
   ],
   "source": [
    "# create predicitions from stacked model\n",
    "y_pred_full = stack.predict(X_test_full)\n",
    "y_pred_full = np.exp(y_pred_full)\n",
    "\n",
    "# create submission\n",
    "df_id = df_sample_submission.drop('SalePrice', axis=1)\n",
    "df_submission = df_id.merge(pd.DataFrame(y_pred_full, columns=['SalePrice']),left_index=True,right_index=True)\n",
    "\n",
    "# check sumbission format\n",
    "print(df_submission.head())\n",
    "\n",
    "# save submission to folder\n",
    "save_folder = \"/Users/IainMac/Desktop/Learning/01 Portfolio/02 Machine Learning/01 Regression/00 Kaggle Submissions/\"\n",
    "save_name = 'submission.csv'\n",
    "df_submission.to_csv(path_or_buf = save_folder + save_name, index=False)"
   ]
  },
  {
   "cell_type": "code",
   "execution_count": 820,
   "metadata": {},
   "outputs": [
    {
     "name": "stderr",
     "output_type": "stream",
     "text": [
      "100%|██████████| 21.2k/21.2k [00:10<00:00, 1.99kB/s]\n"
     ]
    },
    {
     "data": {
      "text/plain": [
       "Successfully submitted to House Prices: Advanced Regression Techniques"
      ]
     },
     "execution_count": 820,
     "metadata": {},
     "output_type": "execute_result"
    }
   ],
   "source": [
    "# submit\n",
    "# api.competition_submit(save_folder + save_name, message='submission: stacked' ,competition=competition)"
   ]
  },
  {
   "cell_type": "markdown",
   "metadata": {},
   "source": [
    "Our stacked model does not appear to be giving better results than the best underlying model, instead we try blending the models."
   ]
  },
  {
   "cell_type": "markdown",
   "metadata": {},
   "source": [
    "## Blended Model (Ensemble)\n",
    "\n",
    "Code here is a little messy: attempts to find an optimal blend of models. Idea is to do a 10FoldCV of the optimal blend ratio across all the models trained. "
   ]
  },
  {
   "cell_type": "code",
   "execution_count": 306,
   "metadata": {},
   "outputs": [],
   "source": [
    "# create stack partial trained pipelines\n",
    "stacked_pipelines = []\n",
    "\n",
    "for row in top_models_pipesss.index:\n",
    "    pipeline = top_models_pipesss[row:row+1]['pipeline'][row]\n",
    "    stacked_pipelines.append(pipeline)\n",
    "\n",
    "# stacked model\n",
    "stacked_pipelines = tuple(stacked_pipelines_full)\n",
    "stack = StackingRegressor(regressors=stacked_pipelines,\n",
    "                            meta_regressor=XGBRegressor(objective='reg:squarederror'));\n",
    "    \n",
    "# fit model stacked model\n",
    "stack.fit(X_train, y_train);\n",
    "    "
   ]
  },
  {
   "cell_type": "code",
   "execution_count": 328,
   "metadata": {},
   "outputs": [
    {
     "name": "stdout",
     "output_type": "stream",
     "text": [
      "averaged test score: 0.06121692833138342\n",
      "averaged test score: 0.02266238173370214\n"
     ]
    }
   ],
   "source": [
    "from itertools import combinations_with_replacement\n",
    "from itertools import permutations\n",
    "from itertools import combinations\n",
    "\n",
    "# add stack to list of pipelines\n",
    "stacked_pipelines = list(stacked_pipelines_full)\n",
    "stacked_pipelines.append(stack)\n",
    "\n",
    "# create list to store predictions\n",
    "y_pred_all = []\n",
    "\n",
    "# create prediction for each model\n",
    "for pipeline in stacked_pipelines:\n",
    "\n",
    "    # test error for stacked model\n",
    "    y_pred = pipeline.predict(X_test)\n",
    "    #print('test score: ' + str(scoring(y_test, y_pred)**(1/2)))\n",
    "    \n",
    "    y_pred_all.append(y_pred)\n",
    "\n",
    "# print average score for this fold\n",
    "print('averaged test score: ' + str(scoring(y_test, np.mean(y_pred_all, axis=0))**(1/2)))\n",
    "\n",
    "\n",
    "# create ratios e.g. if there are eight models blend ratios can be anywhere from 0 to 1 in increments of 1/8ths\n",
    "ratios = []\n",
    "for i in range(len(y_pred_all)+1):\n",
    "    ratios.append(i/len(y_pred_all))\n",
    "\n",
    "# create all combinations: messy code clear up\n",
    "combs = combinations_with_replacement(ratios, len(y_pred_all))\n",
    "combs = list(combs)\n",
    "\n",
    "combs_sum_1 = []\n",
    "perms_sum_1 = []\n",
    "final_sum_1 = []\n",
    "for i, comb in enumerate(combs):\n",
    "    if np.array(comb).sum() == 1.0:\n",
    "        combs_sum_1.append(comb)\n",
    "        for comb_sum_1 in combs_sum_1:\n",
    "            perms = permutations(comb_sum_1)\n",
    "            perms_sum_1 = list(set(perms))\n",
    "            for perm_sum_1 in perms_sum_1:\n",
    "                final_sum_1.append(list(perm_sum_1))\n",
    "            \n",
    "combinations = np.array(pd.DataFrame(final_sum_1).drop_duplicates())\n",
    "combinations.shape\n",
    "\n",
    "# predicitions taken by blending models\n",
    "all_preds = np.matmul(combinations, np.array(y_pred_all))\n",
    "\n",
    "# test for comparision with predctions\n",
    "all_tests = np.transpose(np.matmul(np.array(y_test).reshape(-1,1), np.ones((1, all_preds.shape[0]))))\n",
    "\n",
    "# min index of rmse\n",
    "min_index = ((all_tests - all_preds)**2).sum(axis=1).argmin()\n",
    "\n",
    "# weights of models\n",
    "weights = combinations[min_index]\n",
    "\n",
    "# new predicition blended using optimal weights\n",
    "new_pred = np.matmul(np.transpose(y_pred_all), weights)\n",
    "\n",
    "print('averaged test score: ' + str(scoring(y_test, new_pred)**(1/2)))       "
   ]
  },
  {
   "cell_type": "code",
   "execution_count": 340,
   "metadata": {},
   "outputs": [
    {
     "name": "stdout",
     "output_type": "stream",
     "text": [
      "averaged test score: 0.08837681520832884\n",
      "averaged test score: 0.08434837225865213\n",
      "averaged test score: 0.08869506036094568\n",
      "averaged test score: 0.08587066658073818\n",
      "averaged test score: 0.10216851422962102\n",
      "averaged test score: 0.10117376222689817\n",
      "averaged test score: 0.1079524632081409\n",
      "averaged test score: 0.10527788608781588\n",
      "averaged test score: 0.11931780925065272\n",
      "averaged test score: 0.11787941290886084\n",
      "averaged test score: 0.09431801356235647\n",
      "averaged test score: 0.09229674988350611\n",
      "averaged test score: 0.11336636176688608\n",
      "averaged test score: 0.11281259958112054\n",
      "averaged test score: 0.08915577472965135\n",
      "averaged test score: 0.08669823173709865\n",
      "averaged test score: 0.0899758500194417\n",
      "averaged test score: 0.08728923976056648\n",
      "averaged test score: 0.10238855528770088\n",
      "averaged test score: 0.09932229383465732\n"
     ]
    }
   ],
   "source": [
    "from itertools import combinations_with_replacement\n",
    "from itertools import permutations\n",
    "from itertools import combinations\n",
    "from sklearn.model_selection import KFold\n",
    "\n",
    "kf = KFold(n_splits=10)\n",
    "kf.get_n_splits(X_train_full)\n",
    "\n",
    "\n",
    "weights_list = []\n",
    "scores = []\n",
    "\n",
    "for train_index, test_index in kf.split(X_train_full):\n",
    "    X_train_fold, X_test_fold = X_train_full.iloc[train_index], X_train_full.iloc[test_index]\n",
    "    y_train_fold, y_test_fold = y_train_full.iloc[train_index], y_train_full.iloc[test_index]\n",
    "\n",
    "    # add stack to list of pipelines\n",
    "    stacked_pipelines = list(stacked_pipelines_full)\n",
    "    stacked_pipelines.append(stack)\n",
    "\n",
    "    # create list to store predictions\n",
    "    y_pred_all = []\n",
    "\n",
    "    # create prediction for each model\n",
    "    for pipeline in stacked_pipelines:\n",
    "        pipeline.fit(X_train_fold, y_train_fold)\n",
    "\n",
    "        # test error for stacked model\n",
    "        y_pred = pipeline.predict(X_test_fold)\n",
    "        #print('test score: ' + str(scoring(y_test, y_pred)**(1/2)))\n",
    "\n",
    "        y_pred_all.append(y_pred)\n",
    "\n",
    "    # print average score for this fold\n",
    "    print('averaged test score: ' + str(scoring(y_test_fold, np.mean(y_pred_all, axis=0))**(1/2)))\n",
    "    scores.append(scoring(y_test_fold, np.mean(y_pred_all, axis=0))**(1/2))\n",
    "\n",
    "\n",
    "    # create ratios e.g. if there are eight models blend ratios can be anywhere from 0 to 1 in increments of 1/8ths\n",
    "    ratios = []\n",
    "    for i in range(len(y_pred_all)+1):\n",
    "        ratios.append(i/len(y_pred_all))\n",
    "\n",
    "    # create all combinations: messy code clear up\n",
    "    combs = combinations_with_replacement(ratios, len(y_pred_all))\n",
    "    combs = list(combs)\n",
    "\n",
    "    combs_sum_1 = []\n",
    "    perms_sum_1 = []\n",
    "    final_sum_1 = []\n",
    "    for i, comb in enumerate(combs):\n",
    "        if np.array(comb).sum() == 1.0:\n",
    "            combs_sum_1.append(comb)\n",
    "            for comb_sum_1 in combs_sum_1:\n",
    "                perms = permutations(comb_sum_1)\n",
    "                perms_sum_1 = list(set(perms))\n",
    "                for perm_sum_1 in perms_sum_1:\n",
    "                    final_sum_1.append(list(perm_sum_1))\n",
    "\n",
    "    combinations = np.array(pd.DataFrame(final_sum_1).drop_duplicates())\n",
    "    combinations.shape\n",
    "\n",
    "    # predicitions taken by blending models\n",
    "    all_preds = np.matmul(combinations, np.array(y_pred_all))\n",
    "\n",
    "    # test for comparision with predctions\n",
    "    all_tests = np.transpose(np.matmul(np.array(y_test_fold).reshape(-1,1), np.ones((1, all_preds.shape[0]))))\n",
    "\n",
    "    # min index of rmse\n",
    "    min_index = ((all_tests - all_preds)**2).sum(axis=1).argmin()\n",
    "\n",
    "    # weights of models\n",
    "    weights = combinations[min_index]\n",
    "    \n",
    "    weights_list.append(weights)\n",
    "\n",
    "    # new predicition blended using optimal weights\n",
    "    new_pred = np.matmul(np.transpose(y_pred_all), weights)\n",
    "\n",
    "    print('averaged test score: ' + str(scoring(y_test_fold, new_pred)**(1/2)))       "
   ]
  },
  {
   "cell_type": "code",
   "execution_count": 351,
   "metadata": {},
   "outputs": [],
   "source": [
    "weights = np.array(weights_list).mean(axis=0)"
   ]
  },
  {
   "cell_type": "code",
   "execution_count": 352,
   "metadata": {},
   "outputs": [
    {
     "data": {
      "text/plain": [
       "0.09957152176237256"
      ]
     },
     "execution_count": 352,
     "metadata": {},
     "output_type": "execute_result"
    }
   ],
   "source": [
    "np.array(scores).mean()"
   ]
  },
  {
   "cell_type": "markdown",
   "metadata": {},
   "source": [
    "##### Trian on Full Train DataSet and Create Submission"
   ]
  },
  {
   "cell_type": "code",
   "execution_count": 353,
   "metadata": {},
   "outputs": [],
   "source": [
    "# one warning which can not be turned off\n",
    "warnings.filterwarnings(action='ignore')\n",
    "\n",
    "stacked_pipelines_full = list(stacked_pipelines_full)\n",
    "stacked_pipelines_full.append(stack_full)\n",
    "\n",
    "y_pred_all = []\n",
    "\n",
    "for model in stacked_pipelines_full:\n",
    "    # test error for stacked model\n",
    "    y_pred = model.predict(X_test_full)\n",
    "    \n",
    "    y_pred_all.append(y_pred)\n",
    "    \n"
   ]
  },
  {
   "cell_type": "code",
   "execution_count": 354,
   "metadata": {},
   "outputs": [
    {
     "data": {
      "text/plain": [
       "(8, 1459)"
      ]
     },
     "execution_count": 354,
     "metadata": {},
     "output_type": "execute_result"
    }
   ],
   "source": [
    "np.array(y_pred_all).shape"
   ]
  },
  {
   "cell_type": "code",
   "execution_count": 355,
   "metadata": {},
   "outputs": [],
   "source": [
    "y_pred_full = np.matmul(np.transpose(y_pred_all), weights)"
   ]
  },
  {
   "cell_type": "code",
   "execution_count": 356,
   "metadata": {},
   "outputs": [],
   "source": [
    "y_pred_full = np.exp(y_pred_full)"
   ]
  },
  {
   "cell_type": "code",
   "execution_count": 357,
   "metadata": {},
   "outputs": [
    {
     "data": {
      "text/plain": [
       "(1459,)"
      ]
     },
     "execution_count": 357,
     "metadata": {},
     "output_type": "execute_result"
    }
   ],
   "source": [
    "y_pred_full.shape"
   ]
  },
  {
   "cell_type": "code",
   "execution_count": 358,
   "metadata": {},
   "outputs": [],
   "source": [
    "df_id = df_sample_submission.drop('SalePrice', axis=1)"
   ]
  },
  {
   "cell_type": "code",
   "execution_count": 359,
   "metadata": {},
   "outputs": [],
   "source": [
    "df_submission = df_id.merge(pd.DataFrame(y_pred_full, columns=['SalePrice']),left_index=True,right_index=True)"
   ]
  },
  {
   "cell_type": "code",
   "execution_count": 360,
   "metadata": {},
   "outputs": [
    {
     "data": {
      "text/html": [
       "<div>\n",
       "<style scoped>\n",
       "    .dataframe tbody tr th:only-of-type {\n",
       "        vertical-align: middle;\n",
       "    }\n",
       "\n",
       "    .dataframe tbody tr th {\n",
       "        vertical-align: top;\n",
       "    }\n",
       "\n",
       "    .dataframe thead th {\n",
       "        text-align: right;\n",
       "    }\n",
       "</style>\n",
       "<table border=\"1\" class=\"dataframe\">\n",
       "  <thead>\n",
       "    <tr style=\"text-align: right;\">\n",
       "      <th></th>\n",
       "      <th>Id</th>\n",
       "      <th>SalePrice</th>\n",
       "    </tr>\n",
       "  </thead>\n",
       "  <tbody>\n",
       "    <tr>\n",
       "      <th>0</th>\n",
       "      <td>1461</td>\n",
       "      <td>123860.453226</td>\n",
       "    </tr>\n",
       "    <tr>\n",
       "      <th>1</th>\n",
       "      <td>1462</td>\n",
       "      <td>168513.283859</td>\n",
       "    </tr>\n",
       "    <tr>\n",
       "      <th>2</th>\n",
       "      <td>1463</td>\n",
       "      <td>188137.116286</td>\n",
       "    </tr>\n",
       "    <tr>\n",
       "      <th>3</th>\n",
       "      <td>1464</td>\n",
       "      <td>200317.206331</td>\n",
       "    </tr>\n",
       "    <tr>\n",
       "      <th>4</th>\n",
       "      <td>1465</td>\n",
       "      <td>192410.111839</td>\n",
       "    </tr>\n",
       "  </tbody>\n",
       "</table>\n",
       "</div>"
      ],
      "text/plain": [
       "     Id      SalePrice\n",
       "0  1461  123860.453226\n",
       "1  1462  168513.283859\n",
       "2  1463  188137.116286\n",
       "3  1464  200317.206331\n",
       "4  1465  192410.111839"
      ]
     },
     "execution_count": 360,
     "metadata": {},
     "output_type": "execute_result"
    }
   ],
   "source": [
    "df_submission.head()"
   ]
  },
  {
   "cell_type": "code",
   "execution_count": 361,
   "metadata": {},
   "outputs": [],
   "source": [
    "save_folder = \"/Users/IainMac/Desktop/Learning/01 Portfolio/02 Machine Learning/01 Regression/00 Kaggle Submissions/\"\n",
    "save_name = 'submission.csv'\n",
    "df_submission.to_csv(path_or_buf = save_folder + save_name, index=False)\n"
   ]
  },
  {
   "cell_type": "code",
   "execution_count": 362,
   "metadata": {
    "scrolled": true
   },
   "outputs": [
    {
     "name": "stderr",
     "output_type": "stream",
     "text": [
      "100%|██████████| 33.7k/33.7k [00:14<00:00, 2.33kB/s]\n"
     ]
    },
    {
     "data": {
      "text/plain": [
       "Successfully submitted to House Prices: Advanced Regression Techniques"
      ]
     },
     "execution_count": 362,
     "metadata": {},
     "output_type": "execute_result"
    }
   ],
   "source": [
    "api.competition_submit(save_folder + save_name, message='submission' ,competition=competition)"
   ]
  },
  {
   "cell_type": "code",
   "execution_count": null,
   "metadata": {},
   "outputs": [],
   "source": []
  }
 ],
 "metadata": {
  "kernelspec": {
   "display_name": "Python [conda env:portfolio_machinelearning]",
   "language": "python",
   "name": "conda-env-portfolio_machinelearning-py"
  },
  "language_info": {
   "codemirror_mode": {
    "name": "ipython",
    "version": 3
   },
   "file_extension": ".py",
   "mimetype": "text/x-python",
   "name": "python",
   "nbconvert_exporter": "python",
   "pygments_lexer": "ipython3",
   "version": "3.7.2"
  }
 },
 "nbformat": 4,
 "nbformat_minor": 2
}
